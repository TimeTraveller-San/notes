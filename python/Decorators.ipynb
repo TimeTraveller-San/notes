{
 "cells": [
  {
   "cell_type": "markdown",
   "metadata": {},
   "source": [
    "# Decorators\n",
    "\n",
    "Decorators in simplest words are: **Callables that return callables** or a method that returns a method\n",
    "It's used to modify (decorate) an already existing part of the code. This is also known as **metaprogramming**\n",
    "\"@\" is just a syntax sugar to call the decorator method as shown in the code snippets below:\n",
    "\n",
    "\n",
    "neko is a function that takes in the color of a cat (neko) and prints it\n",
    "cutefiy is a decorator that takes in a callable, prints \"nyaan\" and finally runs and returns that callable (These are called [closures](https://www.programiz.com/python-programming/closure) in python)"
   ]
  },
  {
   "cell_type": "code",
   "execution_count": 1,
   "metadata": {},
   "outputs": [],
   "source": [
    "def neko(color):\n",
    "    print(f\"I am a {color} neko!\")\n",
    "    \n",
    "def cuteify(func):\n",
    "    def inner(color):\n",
    "        print(\"nyaan!\")\n",
    "        func(color)\n",
    "    return inner"
   ]
  },
  {
   "cell_type": "code",
   "execution_count": 2,
   "metadata": {},
   "outputs": [
    {
     "name": "stdout",
     "output_type": "stream",
     "text": [
      "I am a kuro neko!\n"
     ]
    }
   ],
   "source": [
    "neko(\"kuro\")"
   ]
  },
  {
   "cell_type": "code",
   "execution_count": 3,
   "metadata": {},
   "outputs": [
    {
     "name": "stdout",
     "output_type": "stream",
     "text": [
      "nyaan!\n",
      "I am a shiro neko!\n"
     ]
    }
   ],
   "source": [
    "cute_neko = cuteify(neko)\n",
    "cute_neko(\"shiro\")"
   ]
  },
  {
   "cell_type": "markdown",
   "metadata": {},
   "source": [
    "## Syntactic sugar"
   ]
  },
  {
   "cell_type": "markdown",
   "metadata": {},
   "source": [
    "Rather than doing \n",
    "```python\n",
    "cute_neko = cuteify(neko)\n",
    "cute_neko(\"shiro\")\n",
    "```\n",
    "we can use `@dectorator_name_here` before defining the function as follows: "
   ]
  },
  {
   "cell_type": "code",
   "execution_count": 4,
   "metadata": {},
   "outputs": [],
   "source": [
    "@cuteify\n",
    "def toy_neko(color):\n",
    "    print(f\"I am a {color} toy neko!\")"
   ]
  },
  {
   "cell_type": "code",
   "execution_count": 5,
   "metadata": {},
   "outputs": [
    {
     "name": "stdout",
     "output_type": "stream",
     "text": [
      "nyaan!\n",
      "I am a kuro toy neko!\n"
     ]
    }
   ],
   "source": [
    "toy_neko(\"kuro\")"
   ]
  }
 ],
 "metadata": {
  "kernelspec": {
   "display_name": "Python 3",
   "language": "python",
   "name": "python3"
  },
  "language_info": {
   "codemirror_mode": {
    "name": "ipython",
    "version": 3
   },
   "file_extension": ".py",
   "mimetype": "text/x-python",
   "name": "python",
   "nbconvert_exporter": "python",
   "pygments_lexer": "ipython3",
   "version": "3.7.1"
  }
 },
 "nbformat": 4,
 "nbformat_minor": 2
}
