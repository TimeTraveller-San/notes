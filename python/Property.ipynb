{
 "cells": [
  {
   "cell_type": "markdown",
   "metadata": {},
   "source": [
    "# Property in python\n",
    "\n",
    "Property is a special decorator in python. In simple words, it's a way to call a class method without using it like a method i.e without the parenthesis \"()\"\n",
    "\n",
    "`property(fget=None, fset=None, fdel=None, doc=None)`\n",
    ">A property object has three methods, getter(), setter(), and deleter() to specify fget, fset and fdel at a later point. doc is a string used to define the property "
   ]
  },
  {
   "cell_type": "code",
   "execution_count": 97,
   "metadata": {},
   "outputs": [],
   "source": [
    "class neko():\n",
    "    def __init__(self, color = \"Shiro\"):\n",
    "        self._color = color\n",
    "        print(f\"{color} neko initialized, nyaan!\")\n",
    "    \n",
    "    def set_color(self, color):\n",
    "        print(f\"Neko is now {color}!\")\n",
    "        self._color = color\n",
    "        \n",
    "    def get_color(self):\n",
    "        return self._color\n",
    "    \n",
    "    color = property(get_color, set_color)"
   ]
  },
  {
   "cell_type": "code",
   "execution_count": 95,
   "metadata": {},
   "outputs": [
    {
     "name": "stdout",
     "output_type": "stream",
     "text": [
      "Shiro neko initialized, nyaan!\n"
     ]
    }
   ],
   "source": [
    "n = neko()"
   ]
  },
  {
   "cell_type": "code",
   "execution_count": 96,
   "metadata": {},
   "outputs": [
    {
     "data": {
      "text/plain": [
       "'Shiro'"
      ]
     },
     "execution_count": 96,
     "metadata": {},
     "output_type": "execute_result"
    }
   ],
   "source": [
    "#Calling setter\n",
    "n.color"
   ]
  },
  {
   "cell_type": "code",
   "execution_count": 103,
   "metadata": {},
   "outputs": [
    {
     "name": "stdout",
     "output_type": "stream",
     "text": [
      "Neko is now Kuro\n"
     ]
    }
   ],
   "source": [
    "#Calling getter\n",
    "n.color = \"Kuro\""
   ]
  },
  {
   "cell_type": "markdown",
   "metadata": {},
   "source": [
    "## Using the decorator"
   ]
  },
  {
   "cell_type": "code",
   "execution_count": null,
   "metadata": {},
   "outputs": [],
   "source": [
    "class neko():\n",
    "    def __init__(self, color = \"Shiro\"):\n",
    "        self._color = color\n",
    "        print(f\"{color} neko initialized, nyaan!\")\n",
    "    \n",
    "    def set_color(self, color):\n",
    "        print(f\"Neko is now {color}!\")\n",
    "        self._color = color\n",
    "        \n",
    "    def get_color(self):\n",
    "        return self._color\n",
    "    \n",
    "    # Since it's a decorator, it can be called as follows too:\n",
    "    # make empty property\n",
    "    color = property()\n",
    "    # assign fget\n",
    "    color = color.getter(get_color)\n",
    "    # assign fset\n",
    "    color = color.setter(set_color)\n",
    "    "
   ]
  },
  {
   "cell_type": "markdown",
   "metadata": {},
   "source": [
    "### Syntactic sugar"
   ]
  },
  {
   "cell_type": "code",
   "execution_count": 99,
   "metadata": {},
   "outputs": [],
   "source": [
    "class neko():\n",
    "    def __init__(self, color = \"Shiro\"):\n",
    "        self._color = color\n",
    "        print(f\"{color} neko initialized, nyaan!\")\n",
    "    \n",
    "    # Since it's a decorator, it can be called as follows too:\n",
    "    @property\n",
    "    def color(self):\n",
    "        return self._color\n",
    "    \n",
    "    @color.setter\n",
    "    def color(self, c):\n",
    "        print(f\"Neko is now {c}\")    \n",
    "        self._color = c"
   ]
  },
  {
   "cell_type": "code",
   "execution_count": 100,
   "metadata": {},
   "outputs": [
    {
     "name": "stdout",
     "output_type": "stream",
     "text": [
      "Shiro neko initialized, nyaan!\n"
     ]
    }
   ],
   "source": [
    "n = neko()"
   ]
  },
  {
   "cell_type": "code",
   "execution_count": 101,
   "metadata": {},
   "outputs": [
    {
     "data": {
      "text/plain": [
       "'Shiro'"
      ]
     },
     "execution_count": 101,
     "metadata": {},
     "output_type": "execute_result"
    }
   ],
   "source": [
    "#Calling getter\n",
    "n.color"
   ]
  },
  {
   "cell_type": "code",
   "execution_count": 102,
   "metadata": {},
   "outputs": [
    {
     "name": "stdout",
     "output_type": "stream",
     "text": [
      "Neko is now Kuro\n"
     ]
    }
   ],
   "source": [
    "#Calling setter\n",
    "n.color = \"Kuro\""
   ]
  }
 ],
 "metadata": {
  "kernelspec": {
   "display_name": "Python 3",
   "language": "python",
   "name": "python3"
  },
  "language_info": {
   "codemirror_mode": {
    "name": "ipython",
    "version": 3
   },
   "file_extension": ".py",
   "mimetype": "text/x-python",
   "name": "python",
   "nbconvert_exporter": "python",
   "pygments_lexer": "ipython3",
   "version": "3.7.1"
  }
 },
 "nbformat": 4,
 "nbformat_minor": 2
}
