{
 "cells": [
  {
   "cell_type": "code",
   "execution_count": 91,
   "metadata": {},
   "outputs": [],
   "source": [
    "from sklearn.ensemble import RandomForestClassifier\n",
    "from sklearn import datasets\n",
    "import numpy as np\n",
    "import pandas as pd\n",
    "import sklearn\n",
    "from sklearn.metrics import f1_score"
   ]
  },
  {
   "cell_type": "code",
   "execution_count": 92,
   "metadata": {},
   "outputs": [],
   "source": [
    "iris = datasets.load_iris()\n",
    "X, y = iris.data, iris.target "
   ]
  },
  {
   "cell_type": "code",
   "execution_count": 93,
   "metadata": {},
   "outputs": [],
   "source": [
    "rf = RandomForestClassifier()"
   ]
  },
  {
   "cell_type": "markdown",
   "metadata": {},
   "source": [
    "# Simple cross_val_score"
   ]
  },
  {
   "cell_type": "code",
   "execution_count": 94,
   "metadata": {},
   "outputs": [],
   "source": [
    "from sklearn.model_selection import cross_val_score"
   ]
  },
  {
   "cell_type": "code",
   "execution_count": 95,
   "metadata": {},
   "outputs": [
    {
     "name": "stdout",
     "output_type": "stream",
     "text": [
      "[0.98039216 0.90196078 0.97916667]\n",
      "0.9538398692810457\n"
     ]
    },
    {
     "name": "stderr",
     "output_type": "stream",
     "text": [
      "/home/timetraveller/.local/lib/python3.7/site-packages/sklearn/ensemble/forest.py:248: FutureWarning: The default value of n_estimators will change from 10 in version 0.20 to 100 in 0.22.\n",
      "  \"10 in version 0.20 to 100 in 0.22.\", FutureWarning)\n",
      "/home/timetraveller/.local/lib/python3.7/site-packages/sklearn/ensemble/forest.py:248: FutureWarning: The default value of n_estimators will change from 10 in version 0.20 to 100 in 0.22.\n",
      "  \"10 in version 0.20 to 100 in 0.22.\", FutureWarning)\n",
      "/home/timetraveller/.local/lib/python3.7/site-packages/sklearn/ensemble/forest.py:248: FutureWarning: The default value of n_estimators will change from 10 in version 0.20 to 100 in 0.22.\n",
      "  \"10 in version 0.20 to 100 in 0.22.\", FutureWarning)\n"
     ]
    }
   ],
   "source": [
    "scores = cross_val_score(rf, X, y, cv=3, scoring='f1_micro')\n",
    "print(scores)\n",
    "print(np.average(scores))"
   ]
  },
  {
   "cell_type": "markdown",
   "metadata": {},
   "source": [
    "# Iterators"
   ]
  },
  {
   "cell_type": "markdown",
   "metadata": {},
   "source": [
    "## KFold"
   ]
  },
  {
   "cell_type": "code",
   "execution_count": 96,
   "metadata": {},
   "outputs": [],
   "source": [
    "from sklearn.model_selection import KFold"
   ]
  },
  {
   "cell_type": "code",
   "execution_count": 99,
   "metadata": {},
   "outputs": [
    {
     "name": "stdout",
     "output_type": "stream",
     "text": [
      "Test Score: 0.9066666666666666 \n",
      "Train Score: 0.9949999999999999\n"
     ]
    }
   ],
   "source": [
    "NSPLITS = 5\n",
    "kf = KFold(n_splits=NSPLITS)\n",
    "tr_score, test_score = 0, 0\n",
    "for train_idx, test_idx in kf.split(X):\n",
    "    Xtr, ytr = X[train_idx], y[train_idx]\n",
    "    Xtest, ytest = X[test_idx], y[test_idx]\n",
    "    rf.fit(Xtr, ytr)\n",
    "    tr_score += f1_score(rf.predict(Xtr), ytr, average='micro')\n",
    "    test_score += f1_score(rf.predict(Xtest), ytest, average='micro')\n",
    "print(f\"Test Score: {test_score/NSPLITS} \\nTrain Score: {tr_score/NSPLITS}\")    "
   ]
  },
  {
   "cell_type": "markdown",
   "metadata": {},
   "source": [
    "## Repeated KFold"
   ]
  },
  {
   "cell_type": "code",
   "execution_count": 71,
   "metadata": {},
   "outputs": [],
   "source": [
    "from sklearn.model_selection import RepeatedKFold"
   ]
  },
  {
   "cell_type": "code",
   "execution_count": 100,
   "metadata": {},
   "outputs": [
    {
     "name": "stdout",
     "output_type": "stream",
     "text": [
      "Fold: 1\n",
      "Fold: 2\n",
      "Fold: 3\n",
      "Fold: 4\n",
      "Fold: 5\n",
      "Fold: 6\n",
      "Test Score: 0.94 \n",
      "Train Score: 0.995\n"
     ]
    }
   ],
   "source": [
    "NSPLITS = 3\n",
    "NREPEATS = 2\n",
    "kf = RepeatedKFold(n_splits = NSPLITS, n_repeats = NREPEATS)\n",
    "tr_score, test_score = 0, 0\n",
    "i = 0\n",
    "for train_idx, test_idx in kf.split(X):\n",
    "    i += 1\n",
    "    print(f\"Fold: {i}\")\n",
    "    Xtr, ytr = X[train_idx], y[train_idx]\n",
    "    Xtest, ytest = X[test_idx], y[test_idx]\n",
    "    rf.fit(Xtr, ytr)\n",
    "    tr_score += f1_score(rf.predict(Xtr), ytr, average='micro')\n",
    "    test_score += f1_score(rf.predict(Xtest), ytest, average='micro')\n",
    "print(f\"Test Score: {test_score/(NSPLITS * NREPEATS)} \\nTrain Score: {tr_score/(NSPLITS * NREPEATS)}\")    "
   ]
  },
  {
   "cell_type": "markdown",
   "metadata": {},
   "source": [
    "## Leave one out"
   ]
  },
  {
   "cell_type": "code",
   "execution_count": 101,
   "metadata": {},
   "outputs": [],
   "source": [
    "from sklearn.model_selection import LeaveOneOut"
   ]
  },
  {
   "cell_type": "code",
   "execution_count": 105,
   "metadata": {},
   "outputs": [
    {
     "name": "stdout",
     "output_type": "stream",
     "text": [
      "Fold: 1\n",
      "Fold: 2\n",
      "Fold: 3\n",
      "Fold: 4\n",
      "Fold: 5\n",
      "Fold: 6\n",
      "Fold: 7\n",
      "Fold: 8\n",
      "Fold: 9\n",
      "Fold: 10\n",
      "Fold: 11\n",
      "Fold: 12\n",
      "Fold: 13\n",
      "Fold: 14\n",
      "Fold: 15\n",
      "Fold: 16\n",
      "Fold: 17\n",
      "Fold: 18\n",
      "Fold: 19\n",
      "Fold: 20\n",
      "Fold: 21\n",
      "Fold: 22\n",
      "Fold: 23\n",
      "Fold: 24\n",
      "Fold: 25\n",
      "Fold: 26\n",
      "Fold: 27\n",
      "Fold: 28\n",
      "Fold: 29\n",
      "Fold: 30\n",
      "Fold: 31\n",
      "Fold: 32\n",
      "Fold: 33\n",
      "Fold: 34\n",
      "Fold: 35\n",
      "Fold: 36\n",
      "Fold: 37\n",
      "Fold: 38\n",
      "Fold: 39\n",
      "Fold: 40\n",
      "Fold: 41\n",
      "Fold: 42\n",
      "Fold: 43\n",
      "Fold: 44\n",
      "Fold: 45\n",
      "Fold: 46\n",
      "Fold: 47\n",
      "Fold: 48\n",
      "Fold: 49\n",
      "Fold: 50\n",
      "Fold: 51\n",
      "Fold: 52\n",
      "Fold: 53\n",
      "Fold: 54\n",
      "Fold: 55\n",
      "Fold: 56\n",
      "Fold: 57\n",
      "Fold: 58\n",
      "Fold: 59\n",
      "Fold: 60\n",
      "Fold: 61\n",
      "Fold: 62\n",
      "Fold: 63\n",
      "Fold: 64\n",
      "Fold: 65\n",
      "Fold: 66\n",
      "Fold: 67\n",
      "Fold: 68\n",
      "Fold: 69\n",
      "Fold: 70\n",
      "Fold: 71\n",
      "Fold: 72\n",
      "Fold: 73\n",
      "Fold: 74\n",
      "Fold: 75\n",
      "Fold: 76\n",
      "Fold: 77\n",
      "Fold: 78\n",
      "Fold: 79\n",
      "Fold: 80\n",
      "Fold: 81\n",
      "Fold: 82\n",
      "Fold: 83\n",
      "Fold: 84\n",
      "Fold: 85\n",
      "Fold: 86\n",
      "Fold: 87\n",
      "Fold: 88\n",
      "Fold: 89\n",
      "Fold: 90\n",
      "Fold: 91\n",
      "Fold: 92\n",
      "Fold: 93\n",
      "Fold: 94\n",
      "Fold: 95\n",
      "Fold: 96\n",
      "Fold: 97\n",
      "Fold: 98\n",
      "Fold: 99\n",
      "Fold: 100\n",
      "Fold: 101\n",
      "Fold: 102\n",
      "Fold: 103\n",
      "Fold: 104\n",
      "Fold: 105\n",
      "Fold: 106\n",
      "Fold: 107\n",
      "Fold: 108\n",
      "Fold: 109\n",
      "Fold: 110\n",
      "Fold: 111\n",
      "Fold: 112\n",
      "Fold: 113\n",
      "Fold: 114\n",
      "Fold: 115\n",
      "Fold: 116\n",
      "Fold: 117\n",
      "Fold: 118\n",
      "Fold: 119\n",
      "Fold: 120\n",
      "Fold: 121\n",
      "Fold: 122\n",
      "Fold: 123\n",
      "Fold: 124\n",
      "Fold: 125\n",
      "Fold: 126\n",
      "Fold: 127\n",
      "Fold: 128\n",
      "Fold: 129\n",
      "Fold: 130\n",
      "Fold: 131\n",
      "Fold: 132\n",
      "Fold: 133\n",
      "Fold: 134\n",
      "Fold: 135\n",
      "Fold: 136\n",
      "Fold: 137\n",
      "Fold: 138\n",
      "Fold: 139\n",
      "Fold: 140\n",
      "Fold: 141\n",
      "Fold: 142\n",
      "Fold: 143\n",
      "Fold: 144\n",
      "Fold: 145\n",
      "Fold: 146\n",
      "Fold: 147\n",
      "Fold: 148\n",
      "Fold: 149\n",
      "Fold: 150\n",
      "Test Score: 0.9533333333333334 \n",
      "Train Score: 0.99489932885906\n"
     ]
    }
   ],
   "source": [
    "loo = LeaveOneOut()\n",
    "tr_score, test_score = 0, 0\n",
    "i = 0\n",
    "for train_idx, test_idx in loo.split(X):\n",
    "    i += 1\n",
    "    print(f\"Fold: {i}\")\n",
    "    Xtr, ytr = X[train_idx], y[train_idx]\n",
    "    Xtest, ytest = X[test_idx], y[test_idx]\n",
    "    rf.fit(Xtr, ytr)\n",
    "    tr_score += f1_score(rf.predict(Xtr), ytr, average='micro')\n",
    "    test_score += f1_score(rf.predict(Xtest), ytest, average='micro')\n",
    "print(f\"Test Score: {test_score/i} \\nTrain Score: {tr_score/i}\")    "
   ]
  },
  {
   "cell_type": "code",
   "execution_count": 107,
   "metadata": {},
   "outputs": [
    {
     "data": {
      "text/plain": [
       "150"
      ]
     },
     "execution_count": 107,
     "metadata": {},
     "output_type": "execute_result"
    }
   ],
   "source": [
    "len(X)"
   ]
  },
  {
   "cell_type": "markdown",
   "metadata": {},
   "source": [
    "As expected, above runs 150 times\n"
   ]
  },
  {
   "cell_type": "markdown",
   "metadata": {},
   "source": [
    "## Leave P Out (LPO)"
   ]
  },
  {
   "cell_type": "code",
   "execution_count": 108,
   "metadata": {},
   "outputs": [],
   "source": [
    "from sklearn.model_selection import LeavePOut"
   ]
  },
  {
   "cell_type": "code",
   "execution_count": 110,
   "metadata": {},
   "outputs": [
    {
     "name": "stdout",
     "output_type": "stream",
     "text": [
      "Fold: 1\n",
      "Fold: 2\n",
      "Fold: 3\n",
      "Fold: 4\n",
      "Fold: 5\n",
      "Fold: 6\n",
      "Fold: 7\n",
      "Fold: 8\n",
      "Fold: 9\n",
      "Fold: 10\n",
      "Fold: 11\n",
      "Fold: 12\n",
      "Fold: 13\n",
      "Fold: 14\n",
      "Fold: 15\n",
      "Fold: 16\n",
      "Fold: 17\n",
      "Fold: 18\n",
      "Fold: 19\n",
      "Fold: 20\n",
      "Fold: 21\n",
      "Fold: 22\n",
      "Fold: 23\n",
      "Fold: 24\n",
      "Fold: 25\n",
      "Fold: 26\n",
      "Fold: 27\n",
      "Fold: 28\n",
      "Fold: 29\n",
      "Fold: 30\n",
      "Fold: 31\n",
      "Fold: 32\n",
      "Fold: 33\n",
      "Fold: 34\n",
      "Fold: 35\n",
      "Fold: 36\n",
      "Fold: 37\n",
      "Fold: 38\n",
      "Fold: 39\n",
      "Fold: 40\n",
      "Fold: 41\n",
      "Fold: 42\n",
      "Fold: 43\n",
      "Fold: 44\n",
      "Fold: 45\n",
      "Fold: 46\n",
      "Fold: 47\n",
      "Fold: 48\n",
      "Fold: 49\n",
      "Fold: 50\n",
      "Fold: 51\n",
      "Fold: 52\n",
      "Fold: 53\n",
      "Fold: 54\n",
      "Fold: 55\n",
      "Fold: 56\n",
      "Fold: 57\n",
      "Fold: 58\n",
      "Fold: 59\n",
      "Fold: 60\n",
      "Fold: 61\n",
      "Fold: 62\n",
      "Fold: 63\n",
      "Fold: 64\n",
      "Fold: 65\n",
      "Fold: 66\n",
      "Fold: 67\n",
      "Fold: 68\n",
      "Fold: 69\n",
      "Fold: 70\n",
      "Fold: 71\n",
      "Fold: 72\n",
      "Fold: 73\n",
      "Fold: 74\n",
      "Fold: 75\n",
      "Fold: 76\n",
      "Fold: 77\n",
      "Fold: 78\n",
      "Fold: 79\n",
      "Fold: 80\n",
      "Fold: 81\n",
      "Fold: 82\n",
      "Fold: 83\n",
      "Fold: 84\n",
      "Fold: 85\n",
      "Fold: 86\n",
      "Fold: 87\n",
      "Fold: 88\n",
      "Fold: 89\n",
      "Fold: 90\n",
      "Fold: 91\n",
      "Fold: 92\n",
      "Fold: 93\n",
      "Fold: 94\n",
      "Fold: 95\n",
      "Fold: 96\n",
      "Fold: 97\n",
      "Fold: 98\n",
      "Fold: 99\n",
      "Fold: 100\n",
      "Fold: 101\n",
      "Fold: 102\n",
      "Fold: 103\n",
      "Fold: 104\n",
      "Fold: 105\n",
      "Fold: 106\n",
      "Fold: 107\n",
      "Fold: 108\n",
      "Fold: 109\n",
      "Fold: 110\n",
      "Fold: 111\n",
      "Fold: 112\n",
      "Fold: 113\n",
      "Fold: 114\n",
      "Fold: 115\n",
      "Fold: 116\n",
      "Fold: 117\n",
      "Fold: 118\n",
      "Fold: 119\n",
      "Fold: 120\n",
      "Fold: 121\n",
      "Fold: 122\n",
      "Fold: 123\n",
      "Fold: 124\n",
      "Fold: 125\n",
      "Fold: 126\n",
      "Fold: 127\n",
      "Fold: 128\n",
      "Fold: 129\n",
      "Fold: 130\n",
      "Fold: 131\n",
      "Fold: 132\n",
      "Fold: 133\n",
      "Fold: 134\n",
      "Fold: 135\n",
      "Fold: 136\n",
      "Fold: 137\n",
      "Fold: 138\n",
      "Fold: 139\n",
      "Fold: 140\n",
      "Fold: 141\n",
      "Fold: 142\n",
      "Fold: 143\n",
      "Fold: 144\n",
      "Fold: 145\n",
      "Fold: 146\n",
      "Fold: 147\n",
      "Fold: 148\n",
      "Fold: 149\n",
      "Fold: 150\n",
      "Test Score: 0.9466666666666667 \n",
      "Train Score: 0.995033557046979\n"
     ]
    }
   ],
   "source": [
    "lpo = LeavePOut(p=1)\n",
    "tr_score, test_score = 0, 0\n",
    "i = 0\n",
    "for train_idx, test_idx in lpo.split(X):\n",
    "    i += 1\n",
    "    print(f\"Fold: {i}\")\n",
    "    Xtr, ytr = X[train_idx], y[train_idx]\n",
    "    Xtest, ytest = X[test_idx], y[test_idx]\n",
    "    rf.fit(Xtr, ytr)\n",
    "    tr_score += f1_score(rf.predict(Xtr), ytr, average='micro')\n",
    "    test_score += f1_score(rf.predict(Xtest), ytest, average='micro')\n",
    "print(f\"Test Score: {test_score/i} \\nTrain Score: {tr_score/i}\")    "
   ]
  },
  {
   "cell_type": "markdown",
   "metadata": {},
   "source": [
    "Produces nCp folds where n is no. of observations and p is the parameter passed"
   ]
  },
  {
   "cell_type": "markdown",
   "metadata": {},
   "source": [
    "## Shuffle Split"
   ]
  },
  {
   "cell_type": "code",
   "execution_count": 111,
   "metadata": {},
   "outputs": [],
   "source": [
    "from sklearn.model_selection import ShuffleSplit"
   ]
  },
  {
   "cell_type": "code",
   "execution_count": 112,
   "metadata": {},
   "outputs": [
    {
     "name": "stdout",
     "output_type": "stream",
     "text": [
      "Fold: 1\n",
      "Fold: 2\n",
      "Fold: 3\n",
      "Fold: 4\n",
      "Fold: 5\n",
      "Test Score: 0.9377777777777778 \n",
      "Train Score: 0.9942857142857143\n"
     ]
    }
   ],
   "source": [
    "ss = ShuffleSplit(n_splits = 5, test_size = 0.3)\n",
    "tr_score, test_score = 0, 0\n",
    "i = 0\n",
    "for train_idx, test_idx in ss.split(X):\n",
    "    i += 1\n",
    "    print(f\"Fold: {i}\")\n",
    "    Xtr, ytr = X[train_idx], y[train_idx]\n",
    "    Xtest, ytest = X[test_idx], y[test_idx]\n",
    "    rf.fit(Xtr, ytr)\n",
    "    tr_score += f1_score(rf.predict(Xtr), ytr, average='micro')\n",
    "    test_score += f1_score(rf.predict(Xtest), ytest, average='micro')\n",
    "print(f\"Test Score: {test_score/i} \\nTrain Score: {tr_score/i}\")    "
   ]
  },
  {
   "cell_type": "markdown",
   "metadata": {},
   "source": [
    "## Stratified Kfold\n",
    "Preserves the class balance in splits. Use this for classification problems."
   ]
  },
  {
   "cell_type": "code",
   "execution_count": 113,
   "metadata": {},
   "outputs": [],
   "source": [
    "from sklearn.model_selection import StratifiedKFold"
   ]
  },
  {
   "cell_type": "code",
   "execution_count": 116,
   "metadata": {},
   "outputs": [
    {
     "name": "stdout",
     "output_type": "stream",
     "text": [
      "Fold: 1\n",
      "Fold: 2\n",
      "Fold: 3\n",
      "Test Score: 0.960375816993464 \n",
      "Train Score: 0.9966329966329966\n"
     ]
    }
   ],
   "source": [
    "sf = StratifiedKFold(n_splits = 3)\n",
    "tr_score, test_score = 0, 0\n",
    "i = 0\n",
    "for train_idx, test_idx in sf.split(X, y):\n",
    "    i += 1\n",
    "    print(f\"Fold: {i}\")\n",
    "    Xtr, ytr = X[train_idx], y[train_idx]\n",
    "    Xtest, ytest = X[test_idx], y[test_idx]\n",
    "    rf.fit(Xtr, ytr)\n",
    "    tr_score += f1_score(rf.predict(Xtr), ytr, average='micro')\n",
    "    test_score += f1_score(rf.predict(Xtest), ytest, average='micro')\n",
    "print(f\"Test Score: {test_score/i} \\nTrain Score: {tr_score/i}\")    "
   ]
  },
  {
   "cell_type": "markdown",
   "metadata": {},
   "source": [
    "Because the splits are made while balancing the class, this gives pretty good score. Better than any of the ones above."
   ]
  },
  {
   "cell_type": "markdown",
   "metadata": {},
   "source": [
    "## Stratified Shuffle Split"
   ]
  },
  {
   "cell_type": "code",
   "execution_count": 117,
   "metadata": {},
   "outputs": [],
   "source": [
    "from sklearn.model_selection import StratifiedShuffleSplit"
   ]
  },
  {
   "cell_type": "code",
   "execution_count": 118,
   "metadata": {},
   "outputs": [
    {
     "name": "stdout",
     "output_type": "stream",
     "text": [
      "Fold: 1\n",
      "Fold: 2\n",
      "Fold: 3\n",
      "Test Score: 0.9669117647058822 \n",
      "Train Score: 0.9933650227767875\n"
     ]
    }
   ],
   "source": [
    "ssf = StratifiedKFold(n_splits = 3)\n",
    "tr_score, test_score = 0, 0\n",
    "i = 0\n",
    "for train_idx, test_idx in ssf.split(X, y):\n",
    "    i += 1\n",
    "    print(f\"Fold: {i}\")\n",
    "    Xtr, ytr = X[train_idx], y[train_idx]\n",
    "    Xtest, ytest = X[test_idx], y[test_idx]\n",
    "    rf.fit(Xtr, ytr)\n",
    "    tr_score += f1_score(rf.predict(Xtr), ytr, average='micro')\n",
    "    test_score += f1_score(rf.predict(Xtest), ytest, average='micro')\n",
    "print(f\"Test Score: {test_score/i} \\nTrain Score: {tr_score/i}\")    "
   ]
  },
  {
   "cell_type": "code",
   "execution_count": null,
   "metadata": {},
   "outputs": [],
   "source": []
  }
 ],
 "metadata": {
  "kernelspec": {
   "display_name": "Python 3",
   "language": "python",
   "name": "python3"
  },
  "language_info": {
   "codemirror_mode": {
    "name": "ipython",
    "version": 3
   },
   "file_extension": ".py",
   "mimetype": "text/x-python",
   "name": "python",
   "nbconvert_exporter": "python",
   "pygments_lexer": "ipython3",
   "version": "3.7.1"
  }
 },
 "nbformat": 4,
 "nbformat_minor": 2
}
